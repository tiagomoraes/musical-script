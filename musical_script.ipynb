{
  "cells": [
    {
      "cell_type": "markdown",
      "metadata": {
        "id": "view-in-github",
        "colab_type": "text"
      },
      "source": [
        "<a href=\"https://colab.research.google.com/github/tiagomoraes/musical-script/blob/main/musical_script.ipynb\" target=\"_parent\"><img src=\"https://colab.research.google.com/assets/colab-badge.svg\" alt=\"Open In Colab\"/></a>"
      ]
    },
    {
      "cell_type": "markdown",
      "metadata": {
        "id": "K6mcSc0mmp3i"
      },
      "source": [
        "# Install spleeter"
      ]
    },
    {
      "cell_type": "code",
      "execution_count": null,
      "metadata": {
        "id": "f8Brdfh6mzEz"
      },
      "outputs": [],
      "source": [
        "!apt install ffmpeg"
      ]
    },
    {
      "cell_type": "code",
      "execution_count": null,
      "metadata": {
        "id": "V_6Ram1lmc1F"
      },
      "outputs": [],
      "source": [
        "!pip install spleeter youtube_dl pydub"
      ]
    },
    {
      "cell_type": "code",
      "execution_count": 1,
      "metadata": {
        "id": "W0LktyMypXqE"
      },
      "outputs": [],
      "source": [
        "import spleeter\n",
        "import youtube_dl\n",
        "import pydub\n",
        "import IPython.display as ipd\n",
        "from IPython.display import Audio, display\n",
        "from IPython.display import HTML"
      ]
    },
    {
      "cell_type": "markdown",
      "source": [
        "# Library"
      ],
      "metadata": {
        "id": "xkvyrCgZLogs"
      }
    },
    {
      "cell_type": "code",
      "source": [
        "music = {\n",
        "    \"name\": \"See You Again\",\n",
        "    \"artist\": \"Wiz Khalifa\",\n",
        "    \"id\": \"58674266-5a52-4707-b54e-b9e01905f813\",\n",
        "    \"url\": \"https://www.youtube.com/watch?v=RgKAFK5djSk\"\n",
        "  }"
      ],
      "metadata": {
        "id": "iPWGLixSLr3D"
      },
      "execution_count": 68,
      "outputs": []
    },
    {
      "cell_type": "markdown",
      "source": [
        "# Download music from YouTube"
      ],
      "metadata": {
        "id": "viya-RgZBQAx"
      }
    },
    {
      "cell_type": "code",
      "source": [
        "!rm -f -r music.mp3\n",
        "!rm -f -r output\n",
        "!rm -f -r temp\n",
        "!rm -f -r output.zip"
      ],
      "metadata": {
        "id": "ZHTh-lTyRqob"
      },
      "execution_count": 69,
      "outputs": []
    },
    {
      "cell_type": "code",
      "source": [
        "ydl_args = {\n",
        "  \"format\": \"bestaudio/best\",\n",
        "  \"outtmpl\": \"music.mp3\"\n",
        "}\n",
        "\n",
        "ydl = youtube_dl.YoutubeDL(ydl_args)\n",
        "ydl.download([music[\"url\"]])"
      ],
      "metadata": {
        "id": "dK6e0O-HBCAB"
      },
      "execution_count": null,
      "outputs": []
    },
    {
      "cell_type": "code",
      "source": [
        "Audio(\"music.mp3\")"
      ],
      "metadata": {
        "id": "SNusNVV0R27s"
      },
      "execution_count": null,
      "outputs": []
    },
    {
      "cell_type": "markdown",
      "source": [
        "# Run Spleeter"
      ],
      "metadata": {
        "id": "C7nxfM7fBWcf"
      }
    },
    {
      "cell_type": "code",
      "execution_count": null,
      "metadata": {
        "id": "O1kQaoJSoAD0"
      },
      "outputs": [],
      "source": [
        "!spleeter separate -p spleeter:4stems -o temp/ music.mp3"
      ]
    },
    {
      "cell_type": "code",
      "source": [
        "import os\n",
        "from pydub import AudioSegment\n",
        "\n",
        "os.mkdir(\"output\")\n",
        "\n",
        "stems = ['bass', 'drums', 'other', 'vocals']\n",
        "\n",
        "for stem in stems:\n",
        "  sound = AudioSegment.from_wav(f\"temp/music/{stem}.wav\")\n",
        "  sound[61000:87000].export(f\"output/{music['id']}-{stem}.mp3\", format=\"mp3\")"
      ],
      "metadata": {
        "id": "69nnj4srFZF-"
      },
      "execution_count": 73,
      "outputs": []
    },
    {
      "cell_type": "code",
      "source": [
        "!zip -r output.zip output"
      ],
      "metadata": {
        "id": "rxz0-qMciuLa"
      },
      "execution_count": null,
      "outputs": []
    },
    {
      "cell_type": "code",
      "source": [
        "from google.colab import files\n",
        "\n",
        "files.download(\"output.zip\")\n",
        "\n",
        "for stem in stems:\n",
        "  Audio(f\"output/{music['id']}-{stem}.mp3\")"
      ],
      "metadata": {
        "colab": {
          "base_uri": "https://localhost:8080/",
          "height": 17
        },
        "id": "YgX5pfREGUV0",
        "outputId": "7c2f68c1-09e6-4308-937f-b80ffff564d5"
      },
      "execution_count": 75,
      "outputs": [
        {
          "output_type": "display_data",
          "data": {
            "text/plain": [
              "<IPython.core.display.Javascript object>"
            ],
            "application/javascript": [
              "\n",
              "    async function download(id, filename, size) {\n",
              "      if (!google.colab.kernel.accessAllowed) {\n",
              "        return;\n",
              "      }\n",
              "      const div = document.createElement('div');\n",
              "      const label = document.createElement('label');\n",
              "      label.textContent = `Downloading \"${filename}\": `;\n",
              "      div.appendChild(label);\n",
              "      const progress = document.createElement('progress');\n",
              "      progress.max = size;\n",
              "      div.appendChild(progress);\n",
              "      document.body.appendChild(div);\n",
              "\n",
              "      const buffers = [];\n",
              "      let downloaded = 0;\n",
              "\n",
              "      const channel = await google.colab.kernel.comms.open(id);\n",
              "      // Send a message to notify the kernel that we're ready.\n",
              "      channel.send({})\n",
              "\n",
              "      for await (const message of channel.messages) {\n",
              "        // Send a message to notify the kernel that we're ready.\n",
              "        channel.send({})\n",
              "        if (message.buffers) {\n",
              "          for (const buffer of message.buffers) {\n",
              "            buffers.push(buffer);\n",
              "            downloaded += buffer.byteLength;\n",
              "            progress.value = downloaded;\n",
              "          }\n",
              "        }\n",
              "      }\n",
              "      const blob = new Blob(buffers, {type: 'application/binary'});\n",
              "      const a = document.createElement('a');\n",
              "      a.href = window.URL.createObjectURL(blob);\n",
              "      a.download = filename;\n",
              "      div.appendChild(a);\n",
              "      a.click();\n",
              "      div.remove();\n",
              "    }\n",
              "  "
            ]
          },
          "metadata": {}
        },
        {
          "output_type": "display_data",
          "data": {
            "text/plain": [
              "<IPython.core.display.Javascript object>"
            ],
            "application/javascript": [
              "download(\"download_5c5433a9-bd73-4921-8d6e-e444f0db3165\", \"output.zip\", 1375694)"
            ]
          },
          "metadata": {}
        }
      ]
    }
  ],
  "metadata": {
    "colab": {
      "name": "musical-script.ipynb",
      "provenance": [],
      "collapsed_sections": [],
      "include_colab_link": true
    },
    "kernelspec": {
      "display_name": "Python 3",
      "name": "python3"
    }
  },
  "nbformat": 4,
  "nbformat_minor": 0
}